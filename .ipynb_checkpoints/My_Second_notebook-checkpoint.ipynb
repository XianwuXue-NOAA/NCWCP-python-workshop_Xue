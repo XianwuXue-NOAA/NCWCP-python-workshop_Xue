{
 "cells": [
  {
   "cell_type": "code",
   "execution_count": 2,
   "metadata": {},
   "outputs": [
    {
     "data": {
      "text/plain": [
       "['Latitude',\n",
       " 'Longitude',\n",
       " 'Time',\n",
       " 'H2O_MR_500mb',\n",
       " 'H2O_MR_850mb',\n",
       " 'CO_MR_500mb',\n",
       " 'CO_MR_850mb',\n",
       " 'O3_MR_500mb',\n",
       " 'O3_MR_850mb',\n",
       " 'CH4_MR_500mb',\n",
       " 'CH4_MR_850mb',\n",
       " 'N2O_MR_500mb',\n",
       " 'N2O_MR_850mb',\n",
       " 'CO2_500mb',\n",
       " 'CO2_850mb',\n",
       " 'datetime']"
      ]
     },
     "execution_count": 2,
     "metadata": {},
     "output_type": "execute_result"
    }
   ],
   "source": [
    "import pandas as pd # remember this creates an alias 'pd' for pandas\n",
    "fname = 'Data/campfire-gases-2018-11.csv' #Path relative to current \n",
    "gases = pd.read_csv(fname)\n",
    "list(gases)"
   ]
  },
  {
   "cell_type": "code",
   "execution_count": 14,
   "metadata": {},
   "outputs": [
    {
     "data": {
      "text/plain": [
       "Index(['Latitude', 'Longitude', 'Time', 'H2O_MR_500mb', 'H2O_MR_850mb',\n",
       "       'CO_MR_500mb', 'CO_MR_850mb', 'O3_MR_500mb', 'O3_MR_850mb',\n",
       "       'CH4_MR_500mb', 'CH4_MR_850mb', 'N2O_MR_500mb', 'N2O_MR_850mb',\n",
       "       'CO2_500mb', 'CO2_850mb', 'datetime'],\n",
       "      dtype='object')"
      ]
     },
     "execution_count": 14,
     "metadata": {},
     "output_type": "execute_result"
    }
   ],
   "source": [
    "gases.columns"
   ]
  },
  {
   "cell_type": "code",
   "execution_count": 15,
   "metadata": {},
   "outputs": [
    {
     "data": {
      "text/html": [
       "<div>\n",
       "<style scoped>\n",
       "    .dataframe tbody tr th:only-of-type {\n",
       "        vertical-align: middle;\n",
       "    }\n",
       "\n",
       "    .dataframe tbody tr th {\n",
       "        vertical-align: top;\n",
       "    }\n",
       "\n",
       "    .dataframe thead th {\n",
       "        text-align: right;\n",
       "    }\n",
       "</style>\n",
       "<table border=\"1\" class=\"dataframe\">\n",
       "  <thead>\n",
       "    <tr style=\"text-align: right;\">\n",
       "      <th></th>\n",
       "      <th>Latitude</th>\n",
       "      <th>Longitude</th>\n",
       "      <th>CH4_MR_500mb</th>\n",
       "      <th>CH4_MR_850mb</th>\n",
       "      <th>datetime</th>\n",
       "    </tr>\n",
       "  </thead>\n",
       "  <tbody>\n",
       "    <tr>\n",
       "      <td>0</td>\n",
       "      <td>39.693913</td>\n",
       "      <td>-120.49820</td>\n",
       "      <td>1842.4436</td>\n",
       "      <td>1892.8062</td>\n",
       "      <td>2018-11-01 10:39:44.183998108</td>\n",
       "    </tr>\n",
       "    <tr>\n",
       "      <td>1</td>\n",
       "      <td>39.996113</td>\n",
       "      <td>-121.75796</td>\n",
       "      <td>1861.1800</td>\n",
       "      <td>1891.7012</td>\n",
       "      <td>2018-11-01 10:39:44.383998871</td>\n",
       "    </tr>\n",
       "    <tr>\n",
       "      <td>2</td>\n",
       "      <td>39.248516</td>\n",
       "      <td>-120.72343</td>\n",
       "      <td>1861.7188</td>\n",
       "      <td>1894.3835</td>\n",
       "      <td>2018-11-01 10:39:52.183998108</td>\n",
       "    </tr>\n",
       "    <tr>\n",
       "      <td>3</td>\n",
       "      <td>39.547660</td>\n",
       "      <td>-121.97622</td>\n",
       "      <td>1847.3370</td>\n",
       "      <td>1889.8491</td>\n",
       "      <td>2018-11-01 10:39:52.383998871</td>\n",
       "    </tr>\n",
       "    <tr>\n",
       "      <td>4</td>\n",
       "      <td>38.802532</td>\n",
       "      <td>-120.94534</td>\n",
       "      <td>1890.4450</td>\n",
       "      <td>1899.3243</td>\n",
       "      <td>2018-11-01 10:40:00.184000015</td>\n",
       "    </tr>\n",
       "    <tr>\n",
       "      <td>5</td>\n",
       "      <td>38.913975</td>\n",
       "      <td>-121.84265</td>\n",
       "      <td>1919.1682</td>\n",
       "      <td>1897.5906</td>\n",
       "      <td>2018-11-01 20:21:36.183998108</td>\n",
       "    </tr>\n",
       "  </tbody>\n",
       "</table>\n",
       "</div>"
      ],
      "text/plain": [
       "    Latitude  Longitude  CH4_MR_500mb  CH4_MR_850mb  \\\n",
       "0  39.693913 -120.49820     1842.4436     1892.8062   \n",
       "1  39.996113 -121.75796     1861.1800     1891.7012   \n",
       "2  39.248516 -120.72343     1861.7188     1894.3835   \n",
       "3  39.547660 -121.97622     1847.3370     1889.8491   \n",
       "4  38.802532 -120.94534     1890.4450     1899.3243   \n",
       "5  38.913975 -121.84265     1919.1682     1897.5906   \n",
       "\n",
       "                        datetime  \n",
       "0  2018-11-01 10:39:44.183998108  \n",
       "1  2018-11-01 10:39:44.383998871  \n",
       "2  2018-11-01 10:39:52.183998108  \n",
       "3  2018-11-01 10:39:52.383998871  \n",
       "4  2018-11-01 10:40:00.184000015  \n",
       "5  2018-11-01 20:21:36.183998108  "
      ]
     },
     "execution_count": 15,
     "metadata": {},
     "output_type": "execute_result"
    }
   ],
   "source": [
    "# List the first few rows and certain columns\n",
    "gases.loc[0:5,['Latitude','Longitude', 'CH4_MR_500mb','CH4_MR_850mb','datetime']]"
   ]
  },
  {
   "cell_type": "code",
   "execution_count": null,
   "metadata": {},
   "outputs": [],
   "source": []
  },
  {
   "cell_type": "code",
   "execution_count": null,
   "metadata": {},
   "outputs": [],
   "source": []
  }
 ],
 "metadata": {
  "kernelspec": {
   "display_name": "Python 3",
   "language": "python",
   "name": "python3"
  },
  "language_info": {
   "codemirror_mode": {
    "name": "ipython",
    "version": 3
   },
   "file_extension": ".py",
   "mimetype": "text/x-python",
   "name": "python",
   "nbconvert_exporter": "python",
   "pygments_lexer": "ipython3",
   "version": "3.7.4"
  }
 },
 "nbformat": 4,
 "nbformat_minor": 2
}
