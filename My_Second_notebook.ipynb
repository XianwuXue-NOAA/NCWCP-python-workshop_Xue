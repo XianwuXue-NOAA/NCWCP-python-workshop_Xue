{
 "cells": [
  {
   "cell_type": "code",
   "execution_count": 2,
   "metadata": {},
   "outputs": [
    {
     "data": {
      "text/plain": [
       "['Latitude',\n",
       " 'Longitude',\n",
       " 'Time',\n",
       " 'H2O_MR_500mb',\n",
       " 'H2O_MR_850mb',\n",
       " 'CO_MR_500mb',\n",
       " 'CO_MR_850mb',\n",
       " 'O3_MR_500mb',\n",
       " 'O3_MR_850mb',\n",
       " 'CH4_MR_500mb',\n",
       " 'CH4_MR_850mb',\n",
       " 'N2O_MR_500mb',\n",
       " 'N2O_MR_850mb',\n",
       " 'CO2_500mb',\n",
       " 'CO2_850mb',\n",
       " 'datetime']"
      ]
     },
     "execution_count": 2,
     "metadata": {},
     "output_type": "execute_result"
    }
   ],
   "source": [
    "import pandas as pd # remember this creates an alias 'pd' for pandas\n",
    "fname = 'Data/campfire-gases-2018-11.csv' #Path relative to current \n",
    "gases = pd.read_csv(fname)\n",
    "list(gases)"
   ]
  },
  {
   "cell_type": "code",
   "execution_count": 14,
   "metadata": {},
   "outputs": [
    {
     "data": {
      "text/plain": [
       "Index(['Latitude', 'Longitude', 'Time', 'H2O_MR_500mb', 'H2O_MR_850mb',\n",
       "       'CO_MR_500mb', 'CO_MR_850mb', 'O3_MR_500mb', 'O3_MR_850mb',\n",
       "       'CH4_MR_500mb', 'CH4_MR_850mb', 'N2O_MR_500mb', 'N2O_MR_850mb',\n",
       "       'CO2_500mb', 'CO2_850mb', 'datetime'],\n",
       "      dtype='object')"
      ]
     },
     "execution_count": 14,
     "metadata": {},
     "output_type": "execute_result"
    }
   ],
   "source": [
    "gases.columns"
   ]
  },
  {
   "cell_type": "code",
   "execution_count": 15,
   "metadata": {},
   "outputs": [
    {
     "data": {
      "text/html": [
       "<div>\n",
       "<style scoped>\n",
       "    .dataframe tbody tr th:only-of-type {\n",
       "        vertical-align: middle;\n",
       "    }\n",
       "\n",
       "    .dataframe tbody tr th {\n",
       "        vertical-align: top;\n",
       "    }\n",
       "\n",
       "    .dataframe thead th {\n",
       "        text-align: right;\n",
       "    }\n",
       "</style>\n",
       "<table border=\"1\" class=\"dataframe\">\n",
       "  <thead>\n",
       "    <tr style=\"text-align: right;\">\n",
       "      <th></th>\n",
       "      <th>Latitude</th>\n",
       "      <th>Longitude</th>\n",
       "      <th>CH4_MR_500mb</th>\n",
       "      <th>CH4_MR_850mb</th>\n",
       "      <th>datetime</th>\n",
       "    </tr>\n",
       "  </thead>\n",
       "  <tbody>\n",
       "    <tr>\n",
       "      <td>0</td>\n",
       "      <td>39.693913</td>\n",
       "      <td>-120.49820</td>\n",
       "      <td>1842.4436</td>\n",
       "      <td>1892.8062</td>\n",
       "      <td>2018-11-01 10:39:44.183998108</td>\n",
       "    </tr>\n",
       "    <tr>\n",
       "      <td>1</td>\n",
       "      <td>39.996113</td>\n",
       "      <td>-121.75796</td>\n",
       "      <td>1861.1800</td>\n",
       "      <td>1891.7012</td>\n",
       "      <td>2018-11-01 10:39:44.383998871</td>\n",
       "    </tr>\n",
       "    <tr>\n",
       "      <td>2</td>\n",
       "      <td>39.248516</td>\n",
       "      <td>-120.72343</td>\n",
       "      <td>1861.7188</td>\n",
       "      <td>1894.3835</td>\n",
       "      <td>2018-11-01 10:39:52.183998108</td>\n",
       "    </tr>\n",
       "    <tr>\n",
       "      <td>3</td>\n",
       "      <td>39.547660</td>\n",
       "      <td>-121.97622</td>\n",
       "      <td>1847.3370</td>\n",
       "      <td>1889.8491</td>\n",
       "      <td>2018-11-01 10:39:52.383998871</td>\n",
       "    </tr>\n",
       "    <tr>\n",
       "      <td>4</td>\n",
       "      <td>38.802532</td>\n",
       "      <td>-120.94534</td>\n",
       "      <td>1890.4450</td>\n",
       "      <td>1899.3243</td>\n",
       "      <td>2018-11-01 10:40:00.184000015</td>\n",
       "    </tr>\n",
       "    <tr>\n",
       "      <td>5</td>\n",
       "      <td>38.913975</td>\n",
       "      <td>-121.84265</td>\n",
       "      <td>1919.1682</td>\n",
       "      <td>1897.5906</td>\n",
       "      <td>2018-11-01 20:21:36.183998108</td>\n",
       "    </tr>\n",
       "  </tbody>\n",
       "</table>\n",
       "</div>"
      ],
      "text/plain": [
       "    Latitude  Longitude  CH4_MR_500mb  CH4_MR_850mb  \\\n",
       "0  39.693913 -120.49820     1842.4436     1892.8062   \n",
       "1  39.996113 -121.75796     1861.1800     1891.7012   \n",
       "2  39.248516 -120.72343     1861.7188     1894.3835   \n",
       "3  39.547660 -121.97622     1847.3370     1889.8491   \n",
       "4  38.802532 -120.94534     1890.4450     1899.3243   \n",
       "5  38.913975 -121.84265     1919.1682     1897.5906   \n",
       "\n",
       "                        datetime  \n",
       "0  2018-11-01 10:39:44.183998108  \n",
       "1  2018-11-01 10:39:44.383998871  \n",
       "2  2018-11-01 10:39:52.183998108  \n",
       "3  2018-11-01 10:39:52.383998871  \n",
       "4  2018-11-01 10:40:00.184000015  \n",
       "5  2018-11-01 20:21:36.183998108  "
      ]
     },
     "execution_count": 15,
     "metadata": {},
     "output_type": "execute_result"
    }
   ],
   "source": [
    "# List the first few rows and certain columns\n",
    "gases.loc[0:5,['Latitude','Longitude', 'CH4_MR_500mb','CH4_MR_850mb','datetime']]"
   ]
  },
  {
   "cell_type": "code",
   "execution_count": 16,
   "metadata": {},
   "outputs": [
    {
     "data": {
      "text/html": [
       "<div>\n",
       "<style scoped>\n",
       "    .dataframe tbody tr th:only-of-type {\n",
       "        vertical-align: middle;\n",
       "    }\n",
       "\n",
       "    .dataframe tbody tr th {\n",
       "        vertical-align: top;\n",
       "    }\n",
       "\n",
       "    .dataframe thead th {\n",
       "        text-align: right;\n",
       "    }\n",
       "</style>\n",
       "<table border=\"1\" class=\"dataframe\">\n",
       "  <thead>\n",
       "    <tr style=\"text-align: right;\">\n",
       "      <th></th>\n",
       "      <th>Latitude</th>\n",
       "      <th>Longitude</th>\n",
       "      <th>Time</th>\n",
       "      <th>H2O_MR_500mb</th>\n",
       "      <th>H2O_MR_850mb</th>\n",
       "      <th>CO_MR_500mb</th>\n",
       "      <th>CO_MR_850mb</th>\n",
       "      <th>O3_MR_500mb</th>\n",
       "      <th>O3_MR_850mb</th>\n",
       "      <th>CH4_MR_500mb</th>\n",
       "      <th>CH4_MR_850mb</th>\n",
       "      <th>N2O_MR_500mb</th>\n",
       "      <th>N2O_MR_850mb</th>\n",
       "      <th>CO2_500mb</th>\n",
       "      <th>CO2_850mb</th>\n",
       "      <th>datetime</th>\n",
       "    </tr>\n",
       "  </thead>\n",
       "  <tbody>\n",
       "    <tr>\n",
       "      <td>0</td>\n",
       "      <td>39.693913</td>\n",
       "      <td>-120.49820</td>\n",
       "      <td>2018-11-01 10:39:44.183998108</td>\n",
       "      <td>0.001621</td>\n",
       "      <td>0.008410</td>\n",
       "      <td>84.18882</td>\n",
       "      <td>117.011190</td>\n",
       "      <td>46.428890</td>\n",
       "      <td>22.921904</td>\n",
       "      <td>1842.4436</td>\n",
       "      <td>1892.8062</td>\n",
       "      <td>318.75995</td>\n",
       "      <td>320.22995</td>\n",
       "      <td>402.26596</td>\n",
       "      <td>402.75560</td>\n",
       "      <td>2018-11-01 10:39:44.183998108</td>\n",
       "    </tr>\n",
       "    <tr>\n",
       "      <td>1</td>\n",
       "      <td>39.996113</td>\n",
       "      <td>-121.75796</td>\n",
       "      <td>2018-11-01 10:39:44.383998871</td>\n",
       "      <td>0.001781</td>\n",
       "      <td>0.004849</td>\n",
       "      <td>77.59622</td>\n",
       "      <td>109.939960</td>\n",
       "      <td>44.728848</td>\n",
       "      <td>21.737068</td>\n",
       "      <td>1861.1800</td>\n",
       "      <td>1891.7012</td>\n",
       "      <td>318.01180</td>\n",
       "      <td>319.45220</td>\n",
       "      <td>402.76318</td>\n",
       "      <td>402.89474</td>\n",
       "      <td>2018-11-01 10:39:44.383998871</td>\n",
       "    </tr>\n",
       "    <tr>\n",
       "      <td>2</td>\n",
       "      <td>39.248516</td>\n",
       "      <td>-120.72343</td>\n",
       "      <td>2018-11-01 10:39:52.183998108</td>\n",
       "      <td>0.001681</td>\n",
       "      <td>0.005230</td>\n",
       "      <td>80.73684</td>\n",
       "      <td>114.791985</td>\n",
       "      <td>46.114296</td>\n",
       "      <td>22.632338</td>\n",
       "      <td>1861.7188</td>\n",
       "      <td>1894.3835</td>\n",
       "      <td>319.00397</td>\n",
       "      <td>320.42120</td>\n",
       "      <td>402.35360</td>\n",
       "      <td>402.72772</td>\n",
       "      <td>2018-11-01 10:39:52.183998108</td>\n",
       "    </tr>\n",
       "    <tr>\n",
       "      <td>3</td>\n",
       "      <td>39.547660</td>\n",
       "      <td>-121.97622</td>\n",
       "      <td>2018-11-01 10:39:52.383998871</td>\n",
       "      <td>0.001817</td>\n",
       "      <td>0.005295</td>\n",
       "      <td>77.39363</td>\n",
       "      <td>108.182520</td>\n",
       "      <td>44.257423</td>\n",
       "      <td>21.417778</td>\n",
       "      <td>1847.3370</td>\n",
       "      <td>1889.8491</td>\n",
       "      <td>318.03134</td>\n",
       "      <td>319.47528</td>\n",
       "      <td>403.03867</td>\n",
       "      <td>403.07166</td>\n",
       "      <td>2018-11-01 10:39:52.383998871</td>\n",
       "    </tr>\n",
       "    <tr>\n",
       "      <td>4</td>\n",
       "      <td>38.802532</td>\n",
       "      <td>-120.94534</td>\n",
       "      <td>2018-11-01 10:40:00.184000015</td>\n",
       "      <td>0.001604</td>\n",
       "      <td>0.004505</td>\n",
       "      <td>82.68274</td>\n",
       "      <td>123.891740</td>\n",
       "      <td>47.121635</td>\n",
       "      <td>22.546751</td>\n",
       "      <td>1890.4450</td>\n",
       "      <td>1899.3243</td>\n",
       "      <td>319.56244</td>\n",
       "      <td>320.96674</td>\n",
       "      <td>403.35144</td>\n",
       "      <td>403.11090</td>\n",
       "      <td>2018-11-01 10:40:00.184000015</td>\n",
       "    </tr>\n",
       "    <tr>\n",
       "      <td>5</td>\n",
       "      <td>38.913975</td>\n",
       "      <td>-121.84265</td>\n",
       "      <td>2018-11-01 20:21:36.183998108</td>\n",
       "      <td>0.000475</td>\n",
       "      <td>0.005102</td>\n",
       "      <td>72.82465</td>\n",
       "      <td>101.774250</td>\n",
       "      <td>45.051870</td>\n",
       "      <td>21.567574</td>\n",
       "      <td>1919.1682</td>\n",
       "      <td>1897.5906</td>\n",
       "      <td>320.44030</td>\n",
       "      <td>322.15720</td>\n",
       "      <td>403.79895</td>\n",
       "      <td>403.69522</td>\n",
       "      <td>2018-11-01 20:21:36.183998108</td>\n",
       "    </tr>\n",
       "  </tbody>\n",
       "</table>\n",
       "</div>"
      ],
      "text/plain": [
       "    Latitude  Longitude                           Time  H2O_MR_500mb  \\\n",
       "0  39.693913 -120.49820  2018-11-01 10:39:44.183998108      0.001621   \n",
       "1  39.996113 -121.75796  2018-11-01 10:39:44.383998871      0.001781   \n",
       "2  39.248516 -120.72343  2018-11-01 10:39:52.183998108      0.001681   \n",
       "3  39.547660 -121.97622  2018-11-01 10:39:52.383998871      0.001817   \n",
       "4  38.802532 -120.94534  2018-11-01 10:40:00.184000015      0.001604   \n",
       "5  38.913975 -121.84265  2018-11-01 20:21:36.183998108      0.000475   \n",
       "\n",
       "   H2O_MR_850mb  CO_MR_500mb  CO_MR_850mb  O3_MR_500mb  O3_MR_850mb  \\\n",
       "0      0.008410     84.18882   117.011190    46.428890    22.921904   \n",
       "1      0.004849     77.59622   109.939960    44.728848    21.737068   \n",
       "2      0.005230     80.73684   114.791985    46.114296    22.632338   \n",
       "3      0.005295     77.39363   108.182520    44.257423    21.417778   \n",
       "4      0.004505     82.68274   123.891740    47.121635    22.546751   \n",
       "5      0.005102     72.82465   101.774250    45.051870    21.567574   \n",
       "\n",
       "   CH4_MR_500mb  CH4_MR_850mb  N2O_MR_500mb  N2O_MR_850mb  CO2_500mb  \\\n",
       "0     1842.4436     1892.8062     318.75995     320.22995  402.26596   \n",
       "1     1861.1800     1891.7012     318.01180     319.45220  402.76318   \n",
       "2     1861.7188     1894.3835     319.00397     320.42120  402.35360   \n",
       "3     1847.3370     1889.8491     318.03134     319.47528  403.03867   \n",
       "4     1890.4450     1899.3243     319.56244     320.96674  403.35144   \n",
       "5     1919.1682     1897.5906     320.44030     322.15720  403.79895   \n",
       "\n",
       "   CO2_850mb                       datetime  \n",
       "0  402.75560  2018-11-01 10:39:44.183998108  \n",
       "1  402.89474  2018-11-01 10:39:44.383998871  \n",
       "2  402.72772  2018-11-01 10:39:52.183998108  \n",
       "3  403.07166  2018-11-01 10:39:52.383998871  \n",
       "4  403.11090  2018-11-01 10:40:00.184000015  \n",
       "5  403.69522  2018-11-01 20:21:36.183998108  "
      ]
     },
     "execution_count": 16,
     "metadata": {},
     "output_type": "execute_result"
    }
   ],
   "source": [
    "gases.loc[0:5,]"
   ]
  },
  {
   "cell_type": "code",
   "execution_count": 31,
   "metadata": {},
   "outputs": [
    {
     "data": {
      "text/html": [
       "<div>\n",
       "<style scoped>\n",
       "    .dataframe tbody tr th:only-of-type {\n",
       "        vertical-align: middle;\n",
       "    }\n",
       "\n",
       "    .dataframe tbody tr th {\n",
       "        vertical-align: top;\n",
       "    }\n",
       "\n",
       "    .dataframe thead th {\n",
       "        text-align: right;\n",
       "    }\n",
       "</style>\n",
       "<table border=\"1\" class=\"dataframe\">\n",
       "  <thead>\n",
       "    <tr style=\"text-align: right;\">\n",
       "      <th></th>\n",
       "      <th>Latitude</th>\n",
       "      <th>Longitude</th>\n",
       "      <th>Time</th>\n",
       "    </tr>\n",
       "  </thead>\n",
       "  <tbody>\n",
       "    <tr>\n",
       "      <td>5</td>\n",
       "      <td>38.913975</td>\n",
       "      <td>-121.842650</td>\n",
       "      <td>2018-11-01 20:21:36.183998108</td>\n",
       "    </tr>\n",
       "    <tr>\n",
       "      <td>6</td>\n",
       "      <td>39.234962</td>\n",
       "      <td>-120.605130</td>\n",
       "      <td>2018-11-01 20:21:36.383998871</td>\n",
       "    </tr>\n",
       "    <tr>\n",
       "      <td>7</td>\n",
       "      <td>39.359634</td>\n",
       "      <td>-122.065890</td>\n",
       "      <td>2018-11-01 20:21:44.183998108</td>\n",
       "    </tr>\n",
       "    <tr>\n",
       "      <td>8</td>\n",
       "      <td>39.683723</td>\n",
       "      <td>-120.821460</td>\n",
       "      <td>2018-11-01 20:21:44.383998871</td>\n",
       "    </tr>\n",
       "    <tr>\n",
       "      <td>9</td>\n",
       "      <td>40.131947</td>\n",
       "      <td>-121.039990</td>\n",
       "      <td>2018-11-01 20:21:52.383998871</td>\n",
       "    </tr>\n",
       "    <tr>\n",
       "      <td>...</td>\n",
       "      <td>...</td>\n",
       "      <td>...</td>\n",
       "      <td>...</td>\n",
       "    </tr>\n",
       "    <tr>\n",
       "      <td>486</td>\n",
       "      <td>39.359913</td>\n",
       "      <td>-120.773850</td>\n",
       "      <td>2018-11-30 21:18:04.383999825</td>\n",
       "    </tr>\n",
       "    <tr>\n",
       "      <td>487</td>\n",
       "      <td>39.735580</td>\n",
       "      <td>-121.581620</td>\n",
       "      <td>2018-11-30 21:18:12.184000015</td>\n",
       "    </tr>\n",
       "    <tr>\n",
       "      <td>488</td>\n",
       "      <td>39.828247</td>\n",
       "      <td>-120.895836</td>\n",
       "      <td>2018-11-30 21:18:12.383999825</td>\n",
       "    </tr>\n",
       "    <tr>\n",
       "      <td>489</td>\n",
       "      <td>40.203480</td>\n",
       "      <td>-121.709120</td>\n",
       "      <td>2018-11-30 21:18:20.184000015</td>\n",
       "    </tr>\n",
       "    <tr>\n",
       "      <td>490</td>\n",
       "      <td>40.296467</td>\n",
       "      <td>-121.018660</td>\n",
       "      <td>2018-11-30 21:18:20.384000778</td>\n",
       "    </tr>\n",
       "  </tbody>\n",
       "</table>\n",
       "<p>486 rows × 3 columns</p>\n",
       "</div>"
      ],
      "text/plain": [
       "      Latitude   Longitude                           Time\n",
       "5    38.913975 -121.842650  2018-11-01 20:21:36.183998108\n",
       "6    39.234962 -120.605130  2018-11-01 20:21:36.383998871\n",
       "7    39.359634 -122.065890  2018-11-01 20:21:44.183998108\n",
       "8    39.683723 -120.821460  2018-11-01 20:21:44.383998871\n",
       "9    40.131947 -121.039990  2018-11-01 20:21:52.383998871\n",
       "..         ...         ...                            ...\n",
       "486  39.359913 -120.773850  2018-11-30 21:18:04.383999825\n",
       "487  39.735580 -121.581620  2018-11-30 21:18:12.184000015\n",
       "488  39.828247 -120.895836  2018-11-30 21:18:12.383999825\n",
       "489  40.203480 -121.709120  2018-11-30 21:18:20.184000015\n",
       "490  40.296467 -121.018660  2018-11-30 21:18:20.384000778\n",
       "\n",
       "[486 rows x 3 columns]"
      ]
     },
     "execution_count": 31,
     "metadata": {},
     "output_type": "execute_result"
    }
   ],
   "source": [
    "gases.iloc[5:,0:3]"
   ]
  },
  {
   "cell_type": "code",
   "execution_count": 22,
   "metadata": {},
   "outputs": [
    {
     "data": {
      "text/plain": [
       "(491, 16)"
      ]
     },
     "execution_count": 22,
     "metadata": {},
     "output_type": "execute_result"
    }
   ],
   "source": [
    "gases.shape"
   ]
  },
  {
   "cell_type": "code",
   "execution_count": 27,
   "metadata": {},
   "outputs": [
    {
     "data": {
      "text/plain": [
       "0      39.693913\n",
       "1      39.996113\n",
       "2      39.248516\n",
       "3      39.547660\n",
       "4      38.802532\n",
       "         ...    \n",
       "486    39.359913\n",
       "487    39.735580\n",
       "488    39.828247\n",
       "489    40.203480\n",
       "490    40.296467\n",
       "Name: Latitude, Length: 491, dtype: float64"
      ]
     },
     "execution_count": 27,
     "metadata": {},
     "output_type": "execute_result"
    }
   ],
   "source": [
    "gases[\"Latitude\"]"
   ]
  },
  {
   "cell_type": "code",
   "execution_count": 30,
   "metadata": {},
   "outputs": [
    {
     "data": {
      "text/html": [
       "<div>\n",
       "<style scoped>\n",
       "    .dataframe tbody tr th:only-of-type {\n",
       "        vertical-align: middle;\n",
       "    }\n",
       "\n",
       "    .dataframe tbody tr th {\n",
       "        vertical-align: top;\n",
       "    }\n",
       "\n",
       "    .dataframe thead th {\n",
       "        text-align: right;\n",
       "    }\n",
       "</style>\n",
       "<table border=\"1\" class=\"dataframe\">\n",
       "  <thead>\n",
       "    <tr style=\"text-align: right;\">\n",
       "      <th></th>\n",
       "      <th>Latitude</th>\n",
       "      <th>Longitude</th>\n",
       "      <th>Time</th>\n",
       "    </tr>\n",
       "  </thead>\n",
       "  <tbody>\n",
       "    <tr>\n",
       "      <td>0</td>\n",
       "      <td>39.693913</td>\n",
       "      <td>-120.49820</td>\n",
       "      <td>2018-11-01 10:39:44.183998108</td>\n",
       "    </tr>\n",
       "    <tr>\n",
       "      <td>1</td>\n",
       "      <td>39.996113</td>\n",
       "      <td>-121.75796</td>\n",
       "      <td>2018-11-01 10:39:44.383998871</td>\n",
       "    </tr>\n",
       "    <tr>\n",
       "      <td>2</td>\n",
       "      <td>39.248516</td>\n",
       "      <td>-120.72343</td>\n",
       "      <td>2018-11-01 10:39:52.183998108</td>\n",
       "    </tr>\n",
       "    <tr>\n",
       "      <td>3</td>\n",
       "      <td>39.547660</td>\n",
       "      <td>-121.97622</td>\n",
       "      <td>2018-11-01 10:39:52.383998871</td>\n",
       "    </tr>\n",
       "    <tr>\n",
       "      <td>4</td>\n",
       "      <td>38.802532</td>\n",
       "      <td>-120.94534</td>\n",
       "      <td>2018-11-01 10:40:00.184000015</td>\n",
       "    </tr>\n",
       "  </tbody>\n",
       "</table>\n",
       "</div>"
      ],
      "text/plain": [
       "    Latitude  Longitude                           Time\n",
       "0  39.693913 -120.49820  2018-11-01 10:39:44.183998108\n",
       "1  39.996113 -121.75796  2018-11-01 10:39:44.383998871\n",
       "2  39.248516 -120.72343  2018-11-01 10:39:52.183998108\n",
       "3  39.547660 -121.97622  2018-11-01 10:39:52.383998871\n",
       "4  38.802532 -120.94534  2018-11-01 10:40:00.184000015"
      ]
     },
     "execution_count": 30,
     "metadata": {},
     "output_type": "execute_result"
    }
   ],
   "source": [
    "gases.iloc[0:5, 0:3]"
   ]
  },
  {
   "cell_type": "markdown",
   "metadata": {},
   "source": [
    "---"
   ]
  },
  {
   "cell_type": "code",
   "execution_count": 36,
   "metadata": {},
   "outputs": [],
   "source": [
    "# SOLUTION\n",
    "fname = 'Data/VIIRSNDE_global2018312.v1.0.txt'\n",
    "fires = pd.read_csv(fname)"
   ]
  },
  {
   "cell_type": "code",
   "execution_count": 40,
   "metadata": {},
   "outputs": [],
   "source": [
    "# Matplotlib\n",
    "from matplotlib import pyplot as plt\n",
    "from pandas.plotting import register_matplotlib_converters #Register Pandas Formatters and Converters with matplotlib\n",
    "\n",
    "# Options to print figures into notebook/increase size\n",
    "# Only necessary for jupyter notebooks\n",
    "%matplotlib inline\n",
    "plt.rcParams['figure.figsize'] = [12, 6]\n",
    "plt.rcParams.update({'font.size': 16})"
   ]
  },
  {
   "cell_type": "code",
   "execution_count": 41,
   "metadata": {},
   "outputs": [],
   "source": [
    "pd.read_csv?"
   ]
  },
  {
   "cell_type": "markdown",
   "metadata": {},
   "source": [
    "<b> Plotting a single variable </b>\n",
    "\n",
    "Add the data using plt.plot('X Column Name', 'Y Column Name')"
   ]
  },
  {
   "cell_type": "code",
   "execution_count": 42,
   "metadata": {},
   "outputs": [],
   "source": [
    "# Convert the string dates and times to date format (# Explicitly declare the format (for the full list, see http://strftime.org)\n",
    "fmt = '%Y-%m-%d %H:%M:%S'\n",
    "gases['datetime'] = pd.to_datetime(gases['datetime'], format=fmt)"
   ]
  },
  {
   "cell_type": "code",
   "execution_count": 52,
   "metadata": {},
   "outputs": [
    {
     "data": {
      "image/png": "[encoded data removed]",
      "text/plain": [
       "<Figure size 864x432 with 1 Axes>"
      ]
     },
     "metadata": {
      "needs_background": "light"
     },
     "output_type": "display_data"
    }
   ],
   "source": [
    "plt.plot(gases['datetime'], gases['CH4_MR_850mb'])\n",
    "plt.title('All observations within 300km')\n",
    "plt.xticks(rotation=35)\n",
    "plt.xlabel(\"Date\")\n",
    "plt.ylabel(\"kg/\")\n",
    "\n",
    "#plt.savefig(\"test_fig.png\", dpi=300)\n",
    "plt.savefig(\"test_fig.eps\")\n",
    "plt.show()"
   ]
  },
  {
   "cell_type": "code",
   "execution_count": 45,
   "metadata": {},
   "outputs": [],
   "source": [
    "from pandas.plotting import register_matplotlib_converters\n",
    "register_matplotlib_converters()"
   ]
  },
  {
   "cell_type": "code",
   "execution_count": 47,
   "metadata": {},
   "outputs": [
    {
     "data": {
      "text/plain": [
       "<Figure size 864x432 with 0 Axes>"
      ]
     },
     "metadata": {},
     "output_type": "display_data"
    }
   ],
   "source": []
  }
 ],
 "metadata": {
  "kernelspec": {
   "display_name": "Python 3",
   "language": "python",
   "name": "python3"
  },
  "language_info": {
   "codemirror_mode": {
    "name": "ipython",
    "version": 3
   },
   "file_extension": ".py",
   "mimetype": "text/x-python",
   "name": "python",
   "nbconvert_exporter": "python",
   "pygments_lexer": "ipython3",
   "version": "3.7.4"
  }
 },
 "nbformat": 4,
 "nbformat_minor": 2
}
